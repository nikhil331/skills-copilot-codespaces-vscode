{
  "nbformat": 4,
  "nbformat_minor": 0,
  "metadata": {
    "colab": {
      "provenance": [],
      "authorship_tag": "ABX9TyMs4pvjr6q3SNXgEFU533Oz",
      "include_colab_link": true
    },
    "kernelspec": {
      "name": "python3",
      "display_name": "Python 3"
    },
    "language_info": {
      "name": "python"
    }
  },
  "cells": [
    {
      "cell_type": "markdown",
      "metadata": {
        "id": "view-in-github",
        "colab_type": "text"
      },
      "source": [
        "<a href=\"https://colab.research.google.com/github/nikhil331/skills-copilot-codespaces-vscode/blob/main/sentiment_Analysis.ipynb\" target=\"_parent\"><img src=\"https://colab.research.google.com/assets/colab-badge.svg\" alt=\"Open In Colab\"/></a>"
      ]
    },
    {
      "cell_type": "code",
      "source": [
        "import nltk\n",
        "from nltk.tokenize import word_tokenize\n",
        "from nltk.corpus import stopwords\n",
        "from nltk.stem import PorterStemmer\n",
        "\n",
        "nltk.download('punkt') #download data\n",
        "nltk.download('stopwords')"
      ],
      "metadata": {
        "id": "bHlamQD1i4tc",
        "colab": {
          "base_uri": "https://localhost:8080/"
        },
        "outputId": "bc33bdd4-613e-47e1-8cab-642045afc2ca"
      },
      "execution_count": 31,
      "outputs": [
        {
          "output_type": "stream",
          "name": "stderr",
          "text": [
            "[nltk_data] Downloading package punkt to /root/nltk_data...\n",
            "[nltk_data]   Package punkt is already up-to-date!\n",
            "[nltk_data] Downloading package stopwords to /root/nltk_data...\n",
            "[nltk_data]   Package stopwords is already up-to-date!\n"
          ]
        },
        {
          "output_type": "execute_result",
          "data": {
            "text/plain": [
              "True"
            ]
          },
          "metadata": {},
          "execution_count": 31
        }
      ]
    },
    {
      "cell_type": "code",
      "source": [
        "text=\"I like this hospital appointment system !\"\n",
        "tokens=word_tokenize(text)\n",
        "print(tokens)"
      ],
      "metadata": {
        "colab": {
          "base_uri": "https://localhost:8080/"
        },
        "id": "pRt4Qf2B1eCg",
        "outputId": "b6f59b53-1313-4d16-a897-1839efc601bf"
      },
      "execution_count": 32,
      "outputs": [
        {
          "output_type": "stream",
          "name": "stdout",
          "text": [
            "['I', 'like', 'this', 'hospital', 'appointment', 'system', '!']\n"
          ]
        }
      ]
    },
    {
      "cell_type": "code",
      "source": [
        "lowercase_tokens=[token.lower() for token in tokens]\n",
        "print(lowercase_tokens)"
      ],
      "metadata": {
        "colab": {
          "base_uri": "https://localhost:8080/"
        },
        "id": "BTcyMtiQ11WF",
        "outputId": "a1ac6b1c-ec0e-4b9e-b3b1-3e9a523131b3"
      },
      "execution_count": 33,
      "outputs": [
        {
          "output_type": "stream",
          "name": "stdout",
          "text": [
            "['i', 'like', 'this', 'hospital', 'appointment', 'system', '!']\n"
          ]
        }
      ]
    },
    {
      "cell_type": "code",
      "source": [
        "stopwords = set(stopwords.words('english'))\n",
        "filtered_tokens=[token for token in lowercase_tokens if token not in stopwords]\n",
        "print(filtered_tokens)"
      ],
      "metadata": {
        "colab": {
          "base_uri": "https://localhost:8080/"
        },
        "id": "vDqlA7Qv2OYP",
        "outputId": "c01fd742-0eea-40ba-a4fb-ca08e7a60696"
      },
      "execution_count": 34,
      "outputs": [
        {
          "output_type": "stream",
          "name": "stdout",
          "text": [
            "['like', 'hospital', 'appointment', 'system', '!']\n"
          ]
        }
      ]
    },
    {
      "cell_type": "code",
      "source": [
        "import re\n",
        "cleaned_tokens=[re.sub(r'[^\\w\\s]','', token)for token in filtered_tokens]\n",
        "print(cleaned_tokens)"
      ],
      "metadata": {
        "colab": {
          "base_uri": "https://localhost:8080/"
        },
        "id": "elY7NwJFq_p0",
        "outputId": "f3b1c758-c6da-4068-9caf-55203147d0f1"
      },
      "execution_count": 35,
      "outputs": [
        {
          "output_type": "stream",
          "name": "stdout",
          "text": [
            "['like', 'hospital', 'appointment', 'system', '']\n"
          ]
        }
      ]
    },
    {
      "cell_type": "code",
      "source": [
        "stemmer=PorterStemmer()\n",
        "stemmed_tokens=[stemmer.stem(token)for token in cleaned_tokens]\n",
        "print(stemmed_tokens)\n",
        "\n"
      ],
      "metadata": {
        "colab": {
          "base_uri": "https://localhost:8080/"
        },
        "id": "_ziz0AGStZq2",
        "outputId": "5d10b208-065c-43c0-9447-dcd68d707de4"
      },
      "execution_count": 36,
      "outputs": [
        {
          "output_type": "stream",
          "name": "stdout",
          "text": [
            "['like', 'hospit', 'appoint', 'system', '']\n"
          ]
        }
      ]
    },
    {
      "cell_type": "code",
      "source": [
        "from sklearn.feature_extraction.text import CountVectorizer,TfidfVectorizer"
      ],
      "metadata": {
        "id": "SSNnmVsluRYe"
      },
      "execution_count": 37,
      "outputs": []
    },
    {
      "cell_type": "code",
      "source": [
        "corpus=[\"i like this appointment system. \",\"easy to use system.\",\"i don't like the doctors.\"]\n",
        "vectorizer=CountVectorizer()\n",
        "X=vectorizer.fit_transform(corpus)\n",
        "print(vectorizer.get_feature_names_out())\n",
        "print(X.toarray())"
      ],
      "metadata": {
        "colab": {
          "base_uri": "https://localhost:8080/"
        },
        "id": "vTHoWwnYula0",
        "outputId": "ff30acf6-0d55-4e2a-a13d-f25ac34752ce"
      },
      "execution_count": 38,
      "outputs": [
        {
          "output_type": "stream",
          "name": "stdout",
          "text": [
            "['appointment' 'doctors' 'don' 'easy' 'like' 'system' 'the' 'this' 'to'\n",
            " 'use']\n",
            "[[1 0 0 0 1 1 0 1 0 0]\n",
            " [0 0 0 1 0 1 0 0 1 1]\n",
            " [0 1 1 0 1 0 1 0 0 0]]\n"
          ]
        }
      ]
    },
    {
      "cell_type": "code",
      "source": [
        "corpus=[\"i like this appointment system. \",\"easy to use system.\",\"i don't like the doctors.\"]\n",
        "vectorizer=TfidfVectorizer()\n",
        "X=vectorizer.fit_transform(corpus)\n",
        "print(vectorizer.get_feature_names_out())\n",
        "print(X.toarray())"
      ],
      "metadata": {
        "colab": {
          "base_uri": "https://localhost:8080/"
        },
        "outputId": "4a803e04-57d9-432e-b5ba-eb2b830b1d33",
        "id": "HLTOMhOuxMXh"
      },
      "execution_count": 39,
      "outputs": [
        {
          "output_type": "stream",
          "name": "stdout",
          "text": [
            "['appointment' 'doctors' 'don' 'easy' 'like' 'system' 'the' 'this' 'to'\n",
            " 'use']\n",
            "[[0.5628291  0.         0.         0.         0.42804604 0.42804604\n",
            "  0.         0.5628291  0.         0.        ]\n",
            " [0.         0.         0.         0.52863461 0.         0.40204024\n",
            "  0.         0.         0.52863461 0.52863461]\n",
            " [0.         0.52863461 0.52863461 0.         0.40204024 0.\n",
            "  0.52863461 0.         0.         0.        ]]\n"
          ]
        }
      ]
    },
    {
      "cell_type": "code",
      "source": [
        "import pandas as pd\n",
        "from sklearn.model_selection import train_test_split\n",
        "from sklearn.feature_extraction.text import CountVectorizer\n",
        "from sklearn import svm\n",
        "from sklearn.metrics import accuracy_score\n",
        "data=pd.read_csv('mental_health.csv')\n",
        "X=data['text']\n",
        "y=data['label']\n",
        "X_train,X_test,y_train,y_test=train_test_split(X,y,test_size=0.2,random_state=42)\n",
        "vectorizer=CountVectorizer()\n",
        "X_train_feature=vectorizer.fit_transform(X_train)\n",
        "X_test_feature=vectorizer.transform(X_test)\n",
        "clf=svm.SVC()\n",
        "clf.fit(X_train_feature,y_train)\n",
        "y_pred=clf.predict(X_test_feature)\n",
        "accuracy=accuracy_score(y_test,y_pred)\n",
        "print(\"accuracy:\",accuracy)"
      ],
      "metadata": {
        "id": "XeO6J8_WzFRF",
        "colab": {
          "base_uri": "https://localhost:8080/"
        },
        "outputId": "d713b305-1b46-45a0-ec74-faf96f1e65d2"
      },
      "execution_count": 40,
      "outputs": [
        {
          "output_type": "stream",
          "name": "stdout",
          "text": [
            "accuracy: 0.8994380933927534\n"
          ]
        }
      ]
    },
    {
      "cell_type": "code",
      "source": [
        "from sklearn.model_selection import train_test_split\n",
        "import pandas as pd\n",
        "from sklearn.feature_extraction.text import CountVectorizer\n",
        "from sklearn.svm import SVC\n",
        "data =pd.read_csv('mental_health.csv')\n",
        "X=data['text']\n",
        "y=data['label']\n",
        "X_train,X_test,y_train,y_test=train_test_split(X,y,test_size=0.2,random_state=42)\n",
        "vectorizer=CountVectorizer()\n",
        "X_train_feature=vectorizer.fit_transform(X_train)\n",
        "X_test_feature=vectorizer.transform(X_test)\n",
        "#train model\n",
        "model=SVC()\n",
        "model.fit(X_train_feature, y_train)\n",
        "y_pred = model.predict(X_test_feature)"
      ],
      "metadata": {
        "id": "3YUp1SkTc75r"
      },
      "execution_count": 44,
      "outputs": []
    },
    {
      "cell_type": "code",
      "source": [
        "#evaluate this model\n",
        "accuracy=accuracy_score(y_test,)"
      ],
      "metadata": {
        "id": "49ICBl9blnHT"
      },
      "execution_count": null,
      "outputs": []
    }
  ]
}